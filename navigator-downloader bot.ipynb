{
 "cells": [
  {
   "cell_type": "markdown",
   "metadata": {},
   "source": [
    "### A MINI Tutorial on selenium, a framework that allows us to interact with HTML elements on any website\n",
    "### Description: \n",
    "Not only does Selenium provide web scraping tools, it also gives us the ability to mimic a normal browsing interaction, like clicking on a link, typing in a text area, dragging and dropping, and much more. In this mini tutorial, we'll use Selenium to perform the following tasks:\n",
    "* Access a membership website and log in by 'typing' our login credentials and  'clicking' the login button\n",
    "* Navigate to 100+ webpages within the website via automated clicks and collect some data (100+ urls)\n",
    "* Automate the download of 100+ videos located on different webpages, and organize them in specific files\n",
    "* Create a script to download future uploads<br>\n",
    "Before we get started, you'll need the following:\n",
    "* Download and install the Selenium libraries (use the following command to install selenium: _pip install selenium_)\n",
    "* A web driver, which selenium will use to browser the internet. I'm using a chrome driver, which you can download [here](https://chromedriver.chromium.org/downloads)\n",
    "* You also need to install vimeo downloader for downloading videos directly from vimeo(use the following command:_pip install vimeo-downloader_)\n",
    "<p>Okay, we're ready to go! Uncomment the following cell and run it to download _selenium_ and _vimeo-downloader_. Then we'll perform some necessary imports. <br>\n"
   ]
  },
  {
   "cell_type": "code",
   "execution_count": 2,
   "metadata": {},
   "outputs": [],
   "source": [
    "# !pip install selenium\n",
    "# !pip install vimeo-downloader"
   ]
  },
  {
   "cell_type": "code",
   "execution_count": 3,
   "metadata": {},
   "outputs": [],
   "source": [
    "from selenium import webdriver                  # to interact with a web browser\n",
    "from selenium.webdriver.common.keys import Keys # gives us access to keys (like space, tab, enter), which our code can use to interact with the website\n",
    "from selenium.webdriver.common.by import By\n",
    "from selenium.webdriver.support.ui import WebDriverWait\n",
    "from selenium.webdriver.support import expected_conditions as EC\n",
    "from selenium.webdriver.chrome.service import Service\n",
    "from vimeo_downloader import Vimeo\n",
    "import json"
   ]
  },
  {
   "cell_type": "markdown",
   "metadata": {},
   "source": [
    "### Helper functions\n",
    "Before we go any further, I'll define some helpful functions to facilate the task. View the commentes above the function headers for more details about the function.\n",
    "#### _login_to_website()_\n",
    "* Once we've accessed the website, we'll use this function to click \"LOGIN\", tell selenium to type in the username and password, and effectively log in to the site."
   ]
  },
  {
   "cell_type": "code",
   "execution_count": 4,
   "metadata": {},
   "outputs": [],
   "source": [
    "# save 'status files' to this directory\n",
    "status_files_directory = \"status files/\"\n",
    "\n",
    "# Login to the website\n",
    "# returns True on a successfull Login. Otherwise returns False and prints the exception that occured.\n",
    "def login_to_website(USERNAME, PASSWORD, driver):\n",
    "    try:\n",
    "        cursor = WebDriverWait(driver, 20).until(\n",
    "            EC.presence_of_element_located((By.LINK_TEXT, \"LOGIN\"))\n",
    "        )\n",
    "        cursor.click()\n",
    "\n",
    "        # Log in\n",
    "        cursor = WebDriverWait(driver, 3).until(\n",
    "            EC.presence_of_element_located((By.ID, \"user_login\"))\n",
    "        )\n",
    "        cursor.send_keys(USERNAME)\n",
    "        cursor = driver.find_element(By.ID, \"user_pass\")\n",
    "        cursor.send_keys(PASSWORD)\n",
    "        cursor.send_keys(Keys.RETURN)\n",
    "        print(\"Login Successfull!\")\n",
    "        return True\n",
    "\n",
    "    except Exception as e:\n",
    "        print(\"OOPS!! Couldn't Log you in!\", e, sep=\"\\n\\t\")\n",
    "        driver.quit()\n",
    "        return False\n",
    "\n",
    "\n",
    "#utility: to save JSON objects to specified file\n",
    "def save_to_file(fileName, dictionary):\n",
    "    with open(fileName, 'w') as f:\n",
    "        f.write(json.dumps(dictionary))\n",
    "    print(f\"File saved to '{fileName}'\")\n",
    "    \n",
    "\n",
    "#utility: to read JSON objects from specified file\n",
    "def read_from_file(fileName):\n",
    "    with open(fileName, 'r') as f:\n",
    "        data = json.load(f)\n",
    "    return data\n",
    "        \n",
    "\n",
    "# For each section (skill level), this function takes the html_articles\n",
    "#  and extracts the urls to the lessons in that section\n",
    "def get_lessons_webpages(hashset, html_articles):\n",
    "    links = []\n",
    "    for article in html_articles:\n",
    "        webpage_link = article.find_element(By.TAG_NAME, 'a').get_attribute('href')     # the link to the lessons\n",
    "        if webpage_link not in hashset:\n",
    "            hashset.add(webpage_link)\n",
    "            links.append(webpage_link)\n",
    "    return links\n",
    "\n",
    "# gets all the urls to the midi files/lessons on Sean's website\n",
    "# saves links as a JSON object to a file on disk.\n",
    "# returns a dictionary: KEYS: skill level, VALUES: [urls to midi lessons/files for this competence level]\n",
    "def get_webpages_for__midi_section(driver, levels): \n",
    "    all_lessons_pages = set()\n",
    "    urls_for_section = {}\n",
    "    print(\"obtaining MIDI urls...\")\n",
    "\n",
    "    # for all sections (skill level), get all the urls to the lessons\n",
    "    for level in levels:\n",
    "        lessons_html_articles = driver.find_elements(By.CLASS_NAME, f\"filter-{level.lower().replace(' ', '-')}\")\n",
    "        lessons_urls = get_lessons_webpages(all_lessons_pages, lessons_html_articles)\n",
    "        urls_for_section[level] = lessons_urls\n",
    "\n",
    "    print(\"Done! MIDI lessons urls acquired!\")\n",
    "    return urls_for_section\n",
    "\n"
   ]
  },
  {
   "cell_type": "markdown",
   "metadata": {},
   "source": [
    "### More helper functions to download files in the *MIDI FILES* section of the website\n",
    "View comments for more details on each function.<br> \n",
    "Notice the following line of code:<br>\n",
    "* WebDriverWait(driver, 3).until(EC.presence_of_element_located((By.TAG_NAME, \"article\")))\n",
    "<p>This is one of locating HTML elements on a website. In this case, we locate the HTML element with Tag Name \"article\". Sometimes when accessing an element on the site, it is possible that the entire website has not been fully loaded on our browser.<br>- _\"WebDriverWait(driver, 3).until(EC.presence_of_element_located...\"_ tells selenium to wait for a maximum of 3 seconds for the element to be found.<br>- You can wait for multiple elements using EC.presence_of_all_elements_located (see *get_roadmap_vimeo_links()* function for how I used it)"
   ]
  },
  {
   "cell_type": "code",
   "execution_count": 5,
   "metadata": {},
   "outputs": [],
   "source": [
    "def get_video_source(iframe):\n",
    "    return iframe.get_attribute(\"src\")\n",
    "\n",
    "# This function will navigate to each website in \"urls_for_MIDI_section\" and\n",
    "#  get all video and midi files urls on the page, and save them to a disk\n",
    "# urls_for_MIDI_section: All urls to lessons in the MIDI section\n",
    "def get_video_midi_links(driver, urls_for_MIDI_section): \n",
    "    all_links = {}  #? {Level -> [([video_links], [LMV_MIDI_links]), (...), (...)], ...}\n",
    "    failed_links = []\n",
    "    \n",
    "    for level in urls_for_MIDI_section:\n",
    "        # create folder for each section (skill level)\n",
    "        folder_name = level\n",
    "        all_links[folder_name] = []\n",
    "        print(\"\\tRetrieving Videos and MIDI URLS for section: \"+folder_name+\"...\")\n",
    "        \n",
    "        # get all video, LMV, and MIDI files on this skill level\n",
    "        for page_url in urls_for_MIDI_section[level]:\n",
    "            try: \n",
    "                driver.get(page_url)\n",
    "\n",
    "                # all links (video, LMV, MIDI) are in the <article> tag\n",
    "                html_articles = WebDriverWait(driver, 3).until(\n",
    "                    EC.presence_of_element_located((By.TAG_NAME, \"article\"))\n",
    "                )\n",
    "                # get all video links (each video is in an iframe)\n",
    "                iframes = html_articles.find_elements(By.TAG_NAME, \"iframe\")\n",
    "                video_links = [get_video_source(iframe) for iframe in iframes]\n",
    "\n",
    "                # get and MIDI LMV files if present\n",
    "                LMV_MIDI_tags = html_articles.find_elements(By.TAG_NAME, \"a\")\n",
    "                LMV_MIDI_links = [x.get_attribute(\"href\") for x in LMV_MIDI_tags]\n",
    "                \n",
    "                all_links[folder_name].append((video_links, LMV_MIDI_links))\n",
    "\n",
    "            except:\n",
    "                print(\"FAILED to get: \", page_url)\n",
    "                failed_links.append(page_url)\n",
    "\n",
    "        print(\"\\t\"+folder_name+\" Done\")\n",
    "\n",
    "    print(\"ALL DONE!\")\n",
    "    return all_links\n"
   ]
  },
  {
   "cell_type": "markdown",
   "metadata": {},
   "source": [
    "### Helper function for downloading the videos\n",
    "The vimeo-downloader expects the video urls to contain the video ID only, no query parameters. We'll use these helper functions to clean-up collected urls by removing query parameters. I'll only download 720p quality to save storage space. "
   ]
  },
  {
   "cell_type": "code",
   "execution_count": 6,
   "metadata": {},
   "outputs": [],
   "source": [
    "# Given the video, lvm and midi urls, this function will clean up the urls \n",
    "# and return a dictionary containing the direct urls to the videos\n",
    "# (e.g https://player.vimeo.com/video/621834761)\n",
    "def get_vimeo_links(midi_section_urls):\n",
    "    vimeo_links = {}\n",
    "\n",
    "    for level in midi_section_urls:\n",
    "        v_links = []\n",
    "\n",
    "        for src_urls in midi_section_urls[level]:\n",
    "            videos = src_urls[0]\n",
    "            for v in videos:\n",
    "                # remove the url query parameters and get just the video ID\n",
    "                index = v.find('?')\n",
    "                video_link = v.replace(v[index:], '')\n",
    "                v_links.append(video_link)\n",
    "                # total_size += float(Vimeo(video_link).streams[-2].filesize.split()[0]) #max resolution he records in is 1080p, so get the 720p versions to save storage space\n",
    "        \n",
    "        vimeo_links[level] = v_links\n",
    "    return vimeo_links\n",
    "\n",
    "\n",
    "# given a video url, downloads video(720p) and saves it to the specified destination\n",
    "# if a download is unsuccessful, it will send the link back to the caller in \"failed_downloads\" \n",
    "def download_video(video_url, destination_folder, failed_downloads):\n",
    "    try:\n",
    "        video = Vimeo(video_url)#.best_stream\n",
    "        \n",
    "        # we'll only download 720p quality to save storage space\n",
    "        for s in video.streams:\n",
    "            if s.quality == \"720p\":\n",
    "                stream = s\n",
    "                break        \n",
    "        \n",
    "        stream.download(destination_folder, stream.title)\n",
    "        return True\n",
    "    except Exception as e:\n",
    "        print(\"OOPS!!! Download failed. url appended to the 'failed downloads' list\")\n",
    "        failed_downloads.append(video_url)\n",
    "        print(e)\n",
    "        return False\n",
    "\n",
    "\n",
    "# get the video links in the specified RoadMap section\n",
    "def get_roadmap_vimeo_links(level):\n",
    "    cursor =  WebDriverWait(driver, 3).until(\n",
    "        EC.presence_of_element_located((By.LINK_TEXT, \"ROADMAPS\"))\n",
    "    )\n",
    "    cursor.click()\n",
    "\n",
    "    # go to the intermidiate section\n",
    "    cursor =  WebDriverWait(driver, 3).until(\n",
    "        EC.presence_of_element_located((By.LINK_TEXT, level))\n",
    "    )\n",
    "    cursor.click()\n",
    "\n",
    "    # get all video links (each video is in an iframe)\n",
    "    html_articles = WebDriverWait(driver, 3).until(\n",
    "        EC.presence_of_all_elements_located((By.TAG_NAME, \"iframe\"))\n",
    "    )\n",
    "    video_links = [get_video_source(iframe) for iframe in html_articles]\n",
    "    return video_links\n"
   ]
  },
  {
   "cell_type": "markdown",
   "metadata": {},
   "source": [
    "# Running the script\n",
    "We'll use the above helper functions to obtain what we need from the website. Here are the sections we need from the membership website:\n",
    "* 1- MIDI FILES (videos and MIDI/LMV files) for the following skill levels: _Competent, Intermediate, Advanced_ \n",
    "* 2- ROADMAPS for Intermediate and Advanced levels (Vimeo links only)\n",
    "* 3- LIVE TRAINING. The live training section consists of 3 subsections. We'll get all the vimeo links for videos in each sections and save to file for future access.\n",
    "<p>After installing the webdriver, we use the path to tell selenium where to access it, and we create a driver which we'll use to navigate the internet. We access the website and then log in using the username and password stored in the specified text file. \n"
   ]
  },
  {
   "cell_type": "code",
   "execution_count": 7,
   "metadata": {},
   "outputs": [
    {
     "name": "stdout",
     "output_type": "stream",
     "text": [
      "Login Successfull!\n"
     ]
    },
    {
     "data": {
      "text/plain": [
       "True"
      ]
     },
     "execution_count": 7,
     "metadata": {},
     "output_type": "execute_result"
    }
   ],
   "source": [
    "webdriverPATH = \"C:\\Program Files (x86)\\chromedriver.exe\"\n",
    "s = Service(webdriverPATH)\n",
    "driver = webdriver.Chrome(service=s)\n",
    "# driver = webdriver.Chrome(webdriverPATH)  # depricated\n",
    "\n",
    "# read username and password from file\n",
    "login_info  = read_from_file(\"loginInfo.txt\")\n",
    "\n",
    "website = \"https://seanwilsonpiano.com\"\n",
    "driver.get(website)\n",
    "\n",
    "#1 Log in to the website\n",
    "login_to_website(login_info[\"USERNAME\"], login_info[\"PASSWORD\"], driver)"
   ]
  },
  {
   "cell_type": "markdown",
   "metadata": {},
   "source": [
    "## First we'll deal with the \"MIDI Files\" section\n",
    "We'll go to the _\"MIDI FILES\"_ section and get the urls to all the lessons in this section. As before, we'll locate the html elment using *EC.presence_of_element_located_()*. You May search HTML elements by ID, tag name, link text and more ([view selenium documentation for more details](https://selenium-python.readthedocs.io/)) and navigate to it using the _\"click()\"_ method. Using our utility function (described above), we'll get all the urls to the lessons (_Advanced, Competent, Intermediate and Song Breakdowns_)."
   ]
  },
  {
   "cell_type": "code",
   "execution_count": 8,
   "metadata": {},
   "outputs": [
    {
     "name": "stdout",
     "output_type": "stream",
     "text": [
      "obtaining MIDI urls...\n",
      "Done! MIDI lessons urls acquired!\n",
      "File saved to 'status files/All midi pages.txt'\n"
     ]
    }
   ],
   "source": [
    "# go to the MIDI files page\n",
    "cursor =  WebDriverWait(driver, 3).until(\n",
    "    EC.presence_of_element_located((By.LINK_TEXT, \"MIDI FILES\"))\n",
    ")\n",
    "cursor.click()\n",
    "    \n",
    "# get the different skill levels\n",
    "midi_tutorials = driver.find_element(By.ID, \"tabs\")\n",
    "levels = midi_tutorials.find_elements(By.TAG_NAME, \"li\")\n",
    "\n",
    "# remove the \"VIEW ALL\" and \"BEGINNER\" sections\n",
    "del levels[0]\n",
    "del levels[1]\n",
    "levels = [x.text for x in levels]\n",
    "# Get the urls for each lessons\n",
    "urls_for_MIDI_lessons = get_webpages_for__midi_section(driver, levels)\n",
    "\n",
    "# save the urls links to a file on disk\n",
    "save_to_file(status_files_directory+\"All midi pages.txt\", urls_for_MIDI_lessons)\n"
   ]
  },
  {
   "cell_type": "markdown",
   "metadata": {},
   "source": [
    "We saved the file to disk as a JSON object, to be used for furture comparison the next time we want to download new content from the website. Here's what the file content looks like for the \"Song Breakdowns\" section"
   ]
  },
  {
   "cell_type": "code",
   "execution_count": 193,
   "metadata": {},
   "outputs": [
    {
     "name": "stdout",
     "output_type": "stream",
     "text": [
      "Number of websites to visit: 105\n"
     ]
    },
    {
     "data": {
      "text/plain": [
       "['https://seanwilsonpiano.com/kevin-bond-voicings/',\n",
       " 'https://seanwilsonpiano.com/how-to-play-lord-you-are-awesome-west-coast-version/']"
      ]
     },
     "execution_count": 193,
     "metadata": {},
     "output_type": "execute_result"
    }
   ],
   "source": [
    "midi_section_urls = read_from_file(\"status files/All midi pages.txt\")\n",
    "count = sum([len(x) for x in midi_section_urls.values()])\n",
    "print(f\"Number of websites to visit: {count}\")\n",
    "midi_section_urls[\"SONG BREAKDOWNS\"]"
   ]
  },
  {
   "cell_type": "markdown",
   "metadata": {},
   "source": [
    "As you can see, there are 105 websites to visit and collect video and midi urls from. Luckily we won't have to do this manually. We'll use selenium to access each of these pages. For each page, we'll get the url links for videos, LMV and MIDI present. To accomplish this, we'll use the function _\"get_video_midi_links()\"_ (described in the helper section above) "
   ]
  },
  {
   "cell_type": "code",
   "execution_count": 194,
   "metadata": {},
   "outputs": [
    {
     "name": "stdout",
     "output_type": "stream",
     "text": [
      "\tRetrieving Videos and MIDI URLS for section: ADVANCED...\n",
      "\tADVANCED Done\n",
      "\tRetrieving Videos and MIDI URLS for section: COMPETENT...\n",
      "\tCOMPETENT Done\n",
      "\tRetrieving Videos and MIDI URLS for section: INTERMEDIATE...\n",
      "\tINTERMEDIATE Done\n",
      "\tRetrieving Videos and MIDI URLS for section: SONG BREAKDOWNS...\n",
      "FAILED to get:  https://seanwilsonpiano.com/kevin-bond-voicings/\n",
      "\tSONG BREAKDOWNS Done\n",
      "ALL DONE!\n",
      "File saved to 'status files/All midi video links.txt'\n"
     ]
    }
   ],
   "source": [
    "all_links_in_MIDI = get_video_midi_links(driver, midi_section_urls)\n",
    "save_to_file(status_files_directory+\"All midi video links.txt\", all_links_in_MIDI)\n"
   ]
  },
  {
   "cell_type": "markdown",
   "metadata": {},
   "source": [
    "Great! We now have the video and midi urls that we want to download, and we've saved them to a file for ease of access. Before we proceed, let's see that the collected data for one video lessons looks like."
   ]
  },
  {
   "cell_type": "code",
   "execution_count": 195,
   "metadata": {},
   "outputs": [
    {
     "data": {
      "text/plain": [
       "[['https://player.vimeo.com/video/513998524?portrait=0&title=1&color=fff&byline=1&autopause=0',\n",
       "  'https://player.vimeo.com/video/514016566?portrait=0&title=1&color=fff&byline=1&autopause=0'],\n",
       " ['https://gumroad.com/l/NFOgj/seanwilsonpiano123member07',\n",
       "  'https://app.box.com/s/9n7axyq5txnt58qacskzwjjecytmdq86',\n",
       "  'https://app.box.com/s/rq8mhpoiwyfrs42p0hdwgknsmey227gb',\n",
       "  'https://gospelmusicians.com/midiculous-4.html']]"
      ]
     },
     "execution_count": 195,
     "metadata": {},
     "output_type": "execute_result"
    }
   ],
   "source": [
    "video_lvm_midi_urls = read_from_file(\"status files/All midi video links.txt\")\n",
    "video_lvm_midi_urls[\"ADVANCED\"][3]"
   ]
  },
  {
   "cell_type": "markdown",
   "metadata": {},
   "source": [
    "Let's further clean up this data using our _\"get_vimeo_links()\"_ function. This will separate the video urls from the midi/lmv urls. Also, it will get rid of the query parameters that are linked to the vimeo lessons (_this will facilitate the download process_). Here is a sample of the cleaned-up video urls. "
   ]
  },
  {
   "cell_type": "code",
   "execution_count": 196,
   "metadata": {},
   "outputs": [
    {
     "name": "stdout",
     "output_type": "stream",
     "text": [
      "Number of videos to download: 176\n"
     ]
    },
    {
     "data": {
      "text/plain": [
       "['https://player.vimeo.com/video/621834761',\n",
       " 'https://player.vimeo.com/video/589502197',\n",
       " 'https://player.vimeo.com/video/589520216',\n",
       " 'https://player.vimeo.com/video/534543521',\n",
       " 'https://player.vimeo.com/video/534531929']"
      ]
     },
     "execution_count": 196,
     "metadata": {},
     "output_type": "execute_result"
    }
   ],
   "source": [
    "vimeo_links_midi = get_vimeo_links(video_lvm_midi_urls)\n",
    "count = sum([len(x) for x in vimeo_links_midi.values()])\n",
    "print(f\"Number of videos to download: {count}\")\n",
    "vimeo_links_midi[\"ADVANCED\"][:5]"
   ]
  },
  {
   "cell_type": "markdown",
   "metadata": {},
   "source": [
    "Now that we have the vimeo links, we can download the videos from vimeo. We'll use the vimeo downloaded module that we installed at the begining of the tutorial."
   ]
  },
  {
   "cell_type": "code",
   "execution_count": 197,
   "metadata": {},
   "outputs": [
    {
     "name": "stderr",
     "output_type": "stream",
     "text": [
      "There is a fountain, George Granville vid.mp4: 26244KB [00:02, 9583.01KB/s] \n",
      "Jason White (Site I).mp4: 87427KB [00:14, 5965.00KB/s]                           \n",
      "Jason White (Site II).mp4: 92757KB [00:13, 6747.27KB/s]                           \n",
      "Mike Won the Victory Site I.mp4: 111381KB [00:17, 6537.08KB/s]                            \n",
      "Mike Won the Victory Site II.mp4: 59661KB [00:06, 8598.03KB/s]                           \n",
      "Overjoyed Site Beginner.mp4: 84697KB [00:09, 8668.50KB/s]                            \n",
      "Overjoyed Site Intermediate Theory Discussions.mp4: 131128KB [00:12, 10361.97KB/s]                            \n",
      "Cory Henry Doobie Shed Session.mp4: 169296KB [00:12, 13883.54KB/s]                            \n",
      "Jo Pryor Band Killin Site.mp4: 61258KB [00:04, 14310.72KB/s]                           \n",
      "Secret Place Tutorial.mp4: 472633KB [00:34, 13529.09KB/s]                            \n"
     ]
    },
    {
     "name": "stdout",
     "output_type": "stream",
     "text": [
      "OOPS!!! Download failed. url appended to the 'failed downloads' list\n",
      "404: Unable to retrieve download links\n",
      "OOPS!!! Download failed. url appended to the 'failed downloads' list\n",
      "404: Unable to retrieve download links\n"
     ]
    },
    {
     "name": "stderr",
     "output_type": "stream",
     "text": [
      "Chord Idea Travis.mp4: 13046KB [00:01, 11773.64KB/s]                           \n",
      "2nd line (travis).mp4: 12882KB [00:00, 13813.98KB/s]                           \n",
      "3rd Line (travis).mp4: 33622KB [00:02, 13622.26KB/s]                           \n"
     ]
    },
    {
     "name": "stdout",
     "output_type": "stream",
     "text": [
      "OOPS!!! Download failed. url appended to the 'failed downloads' list\n",
      "local variable 'stream' referenced before assignment\n",
      "OOPS!!! Download failed. url appended to the 'failed downloads' list\n",
      "https://www.youtube.com/embed/jFpx-caTqhs is not supported. Make sure you don't include query parameters in the url\n"
     ]
    },
    {
     "name": "stderr",
     "output_type": "stream",
     "text": [
      "The Anthem.mp4: 11348KB [00:00, 13735.16KB/s]                           \n"
     ]
    },
    {
     "name": "stdout",
     "output_type": "stream",
     "text": [
      "OOPS!!! Download failed. url appended to the 'failed downloads' list\n",
      "https://www.youtube.com/embed/i6OA1tr-Bno is not supported. Make sure you don't include query parameters in the url\n",
      "OOPS!!! Download failed. url appended to the 'failed downloads' list\n",
      "local variable 'stream' referenced before assignment\n",
      "OOPS!!! Download failed. url appended to the 'failed downloads' list\n",
      "local variable 'stream' referenced before assignment\n",
      "OOPS!!! Download failed. url appended to the 'failed downloads' list\n",
      "local variable 'stream' referenced before assignment\n",
      "OOPS!!! Download failed. url appended to the 'failed downloads' list\n",
      "local variable 'stream' referenced before assignment\n",
      "OOPS!!! Download failed. url appended to the 'failed downloads' list\n",
      "local variable 'stream' referenced before assignment\n",
      "OOPS!!! Download failed. url appended to the 'failed downloads' list\n",
      "local variable 'stream' referenced before assignment\n",
      "OOPS!!! Download failed. url appended to the 'failed downloads' list\n",
      "local variable 'stream' referenced before assignment\n",
      "OOPS!!! Download failed. url appended to the 'failed downloads' list\n",
      "local variable 'stream' referenced before assignment\n",
      "OOPS!!! Download failed. url appended to the 'failed downloads' list\n",
      "local variable 'stream' referenced before assignment\n",
      "OOPS!!! Download failed. url appended to the 'failed downloads' list\n",
      "local variable 'stream' referenced before assignment\n"
     ]
    },
    {
     "name": "stderr",
     "output_type": "stream",
     "text": [
      "Oh Give Thanks Suggestion video.mp4: 80541KB [00:05, 14323.45KB/s]                           \n"
     ]
    },
    {
     "name": "stdout",
     "output_type": "stream",
     "text": [
      "OOPS!!! Download failed. url appended to the 'failed downloads' list\n",
      "https://www.youtube.com/embed/32K1EcvEASk is not supported. Make sure you don't include query parameters in the url\n",
      "OOPS!!! Download failed. url appended to the 'failed downloads' list\n",
      "https://www.youtube.com/embed/pMEgX1XXs0w is not supported. Make sure you don't include query parameters in the url\n"
     ]
    },
    {
     "name": "stderr",
     "output_type": "stream",
     "text": [
      "There is no way vimeo.mp4: 118778KB [00:10, 11782.67KB/s]\n"
     ]
    },
    {
     "name": "stdout",
     "output_type": "stream",
     "text": [
      "OOPS!!! Download failed. url appended to the 'failed downloads' list\n",
      "https://www.youtube.com/embed/4w-86S0OyPI is not supported. Make sure you don't include query parameters in the url\n",
      "OOPS!!! Download failed. url appended to the 'failed downloads' list\n",
      "https://www.youtube.com/embed/DJqK077XkZg is not supported. Make sure you don't include query parameters in the url\n"
     ]
    },
    {
     "name": "stderr",
     "output_type": "stream",
     "text": [
      "Eddie Brown Talk Music Part 2.mp4: 37690KB [00:02, 13707.53KB/s]                           \n",
      "Eddie Brown Talk Music Part 2.mp4: 37690KB [00:02, 13201.30KB/s]                           \n"
     ]
    },
    {
     "name": "stdout",
     "output_type": "stream",
     "text": [
      "OOPS!!! Download failed. url appended to the 'failed downloads' list\n",
      "https://www.youtube.com/embed/8NIvPxBTOs0 is not supported. Make sure you don't include query parameters in the url\n",
      "OOPS!!! Download failed. url appended to the 'failed downloads' list\n",
      "https://www.youtube.com/embed/pUBWnvspbZk is not supported. Make sure you don't include query parameters in the url\n",
      "OOPS!!! Download failed. url appended to the 'failed downloads' list\n",
      "https://www.youtube.com/embed/4jFRlZ5D-Ak is not supported. Make sure you don't include query parameters in the url\n"
     ]
    },
    {
     "name": "stderr",
     "output_type": "stream",
     "text": [
      "Ear Training 101 - Intervals.mp4: 35505KB [00:02, 13508.06KB/s]                           \n",
      "Ear Training 102 - Intervals.mp4: 42948KB [00:03, 13335.43KB/s]                           \n",
      "Ear Training 103 - Intervals.mp4: 34849KB [00:02, 13595.05KB/s]                           \n",
      "Ear Training 104.mp4: 88734KB [00:06, 13681.69KB/s]                           \n",
      "Ear Training 104.mp4: 88734KB [00:06, 13075.76KB/s]                           \n"
     ]
    },
    {
     "name": "stdout",
     "output_type": "stream",
     "text": [
      "OOPS!!! Download failed. url appended to the 'failed downloads' list\n",
      "https://www.youtube.com/embed/KgPISrDwOzA is not supported. Make sure you don't include query parameters in the url\n"
     ]
    },
    {
     "name": "stderr",
     "output_type": "stream",
     "text": [
      "Cory Henry Practice Section 1.mp4: 11277KB [00:01, 9173.29KB/s]                           \n",
      "Cory Henry Practice Section 1.mp4: 11277KB [00:00, 13273.39KB/s]                          \n",
      "Cory Henry Practice Section 2.mp4: 16825KB [00:01, 14294.72KB/s]                           \n",
      "Cory Henry Practice Section 3.mp4: 22150KB [00:02, 8400.46KB/s]                            \n",
      "Cory Henry Practice Section 4.mp4: 22647KB [00:01, 13139.83KB/s]                           \n"
     ]
    },
    {
     "name": "stdout",
     "output_type": "stream",
     "text": [
      "OOPS!!! Download failed. url appended to the 'failed downloads' list\n",
      "https://www.youtube.com/embed/fbQiKMgcU4o is not supported. Make sure you don't include query parameters in the url\n",
      "OOPS!!! Download failed. url appended to the 'failed downloads' list\n",
      "https://www.youtube.com/embed/c0zs5AlMzN4 is not supported. Make sure you don't include query parameters in the url\n",
      "OOPS!!! Download failed. url appended to the 'failed downloads' list\n",
      "https://www.youtube.com/embed/NXZGU6onuPg is not supported. Make sure you don't include query parameters in the url\n",
      "OOPS!!! Download failed. url appended to the 'failed downloads' list\n",
      "https://www.youtube.com/embed/1PDQXBTtnrQ is not supported. Make sure you don't include query parameters in the url\n"
     ]
    },
    {
     "name": "stderr",
     "output_type": "stream",
     "text": [
      "Cory Henry Yesterday.mp4: 221333KB [00:15, 14095.21KB/s]                            \n"
     ]
    },
    {
     "name": "stdout",
     "output_type": "stream",
     "text": [
      "OOPS!!! Download failed. url appended to the 'failed downloads' list\n",
      "https://www.youtube.com/embed/noS8r0-5FNU is not supported. Make sure you don't include query parameters in the url\n"
     ]
    },
    {
     "name": "stderr",
     "output_type": "stream",
     "text": [
      "8 note chord progression.mp4: 28052KB [00:01, 14240.66KB/s]                           \n",
      "Somewhere over the rainbow Quennel.mp4: 2333KB [00:00, 9294.30KB/s]                          \n"
     ]
    },
    {
     "name": "stdout",
     "output_type": "stream",
     "text": [
      "OOPS!!! Download failed. url appended to the 'failed downloads' list\n",
      "https://www.facebook.com/v3.3/plugins/comments.php is not supported. Make sure you don't include query parameters in the url\n",
      "OOPS!!! Download failed. url appended to the 'failed downloads' list\n",
      "https://www.youtube.com/embed/tzQPP_1_AE8 is not supported. Make sure you don't include query parameters in the url\n",
      "OOPS!!! Download failed. url appended to the 'failed downloads' list\n",
      "404: Unable to retrieve download links\n",
      "OOPS!!! Download failed. url appended to the 'failed downloads' list\n",
      "https://www.youtube.com/embed/D_cF3F32ey8 is not supported. Make sure you don't include query parameters in the url\n",
      "OOPS!!! Download failed. url appended to the 'failed downloads' list\n",
      "local variable 'stream' referenced before assignment\n",
      "OOPS!!! Download failed. url appended to the 'failed downloads' list\n",
      "https://www.youtube.com/embed/EddlK-Nar9Y is not supported. Make sure you don't include query parameters in the url\n"
     ]
    },
    {
     "name": "stderr",
     "output_type": "stream",
     "text": [
      "We are not ashamed (2).mp4: 50272KB [00:03, 14185.35KB/s]                           \n"
     ]
    },
    {
     "name": "stdout",
     "output_type": "stream",
     "text": [
      "OOPS!!! Download failed. url appended to the 'failed downloads' list\n",
      "https://www.youtube.com/embed/DjoY1qhpvTk is not supported. Make sure you don't include query parameters in the url\n",
      "OOPS!!! Download failed. url appended to the 'failed downloads' list\n",
      "https://www.youtube.com/embed/JdLJz7vIkeY is not supported. Make sure you don't include query parameters in the url\n",
      "OOPS!!! Download failed. url appended to the 'failed downloads' list\n",
      "https://www.youtube.com/embed/ZQA0Rz03sXI is not supported. Make sure you don't include query parameters in the url\n",
      "OOPS!!! Download failed. url appended to the 'failed downloads' list\n",
      "https://www.youtube.com/embed/qpwq-9FzRIw is not supported. Make sure you don't include query parameters in the url\n"
     ]
    },
    {
     "name": "stderr",
     "output_type": "stream",
     "text": [
      "Star Spanglde Banner at 75%.mp4: 9027KB [00:00, 14327.69KB/s]                          \n",
      "Star Spanglde Banner at 50%.mp4: 13289KB [00:00, 13942.51KB/s]                           \n"
     ]
    },
    {
     "name": "stdout",
     "output_type": "stream",
     "text": [
      "OOPS!!! Download failed. url appended to the 'failed downloads' list\n",
      "https://www.youtube.com/embed/GWaxkBoJPhE is not supported. Make sure you don't include query parameters in the url\n",
      "OOPS!!! Download failed. url appended to the 'failed downloads' list\n",
      "https://www.youtube.com/embed/nzMBmc7fwE0 is not supported. Make sure you don't include query parameters in the url\n",
      "OOPS!!! Download failed. url appended to the 'failed downloads' list\n",
      "403: If the video is embed only, also provide the url on which it is embedded, Vimeo(url=<vimeo_url>,embedded_on=<url>)\n"
     ]
    },
    {
     "name": "stderr",
     "output_type": "stream",
     "text": [
      "Cory national anthem Part 1(site).mp4: 67813KB [00:04, 13951.65KB/s]                           \n",
      "Cory national anthem Part II (site).mp4: 55313KB [00:05, 11003.02KB/s]                           \n",
      "Grateful Site (beginners).mp4: 94921KB [00:08, 11278.38KB/s]                           \n",
      "Grateful Site (competent intermediate).mp4: 112068KB [00:09, 12039.17KB/s]                            \n",
      "Stand Tutorial.mp4: 125593KB [00:09, 12892.48KB/s]                            \n",
      "Cory Stand Tutorial.mp4: 42025KB [00:02, 14385.90KB/s]                           \n",
      "Oh the Blood Site (beginners).mp4: 58424KB [00:04, 14128.51KB/s]                           \n",
      "Oh the Blood Site (other levels).mp4: 132391KB [00:10, 12349.99KB/s]                            \n",
      "Manifest Tutorial, Part 1.mp4: 111855KB [00:08, 13620.13KB/s]                            \n",
      "Manifest Tutorial, Part 2.mp4: 99113KB [00:07, 13117.18KB/s]                           \n",
      "Manifest Tutorial, Vamp.mp4: 109146KB [00:08, 13298.44KB/s]                            \n",
      "When the Saints I (site).mp4: 59346KB [00:04, 13981.11KB/s]                           \n",
      "When the Saints II (site).mp4: 65844KB [00:04, 14262.60KB/s]                           \n",
      "Sovereign God Site.mp4: 335377KB [00:28, 11892.01KB/s]                            \n",
      "Nobody Greater Site.mp4: 173885KB [00:12, 13548.82KB/s]                            \n",
      "In the Name of Jesus Chorus Only.mp4: 182327KB [00:13, 13431.18KB/s]                            \n",
      "Parris Bowens Movements to F Minor.mp4: 102742KB [00:07, 13630.32KB/s]                            \n",
      "God is Able, Site.mp4: 71676KB [00:05, 14262.91KB/s]                           \n",
      "Oh Come Let Us Site.mp4: 86687KB [00:06, 13977.95KB/s]                           \n",
      "Loren Dawson Band Site Tutorial.mp4: 93147KB [00:06, 13647.98KB/s]                           \n",
      "To Know You Lord.mp4: 117998KB [00:08, 13886.13KB/s]                            \n",
      "Blessed and Highly Favored Tutorial Site.mp4: 166793KB [00:12, 13828.11KB/s]                            \n",
      "R&B Songs by Phillip Cornish.mp4: 92369KB [00:07, 12742.76KB/s]                           \n",
      "When peace like a river Site.mp4: 103662KB [00:07, 14012.32KB/s]                            \n",
      "We Need a Word from the Lord, Thomas Whitfield.mp4: 168067KB [00:12, 13714.27KB/s]                            \n",
      "In the Room Tutorial, by Jason Nelson.mp4: 186596KB [00:13, 13714.58KB/s]                            \n",
      "Parris Bowens NAMM 2020 [Site].mp4: 157625KB [00:11, 13861.78KB/s]                            \n",
      "Jeremy Jeffers chords on NAMM 2020 Shed.mp4: 91025KB [00:06, 13394.32KB/s]                           \n",
      "J Moss Anointing Tutorial.mp4: 410727KB [00:29, 13775.64KB/s]                            \n",
      "You Deserve It, JJ Jairston.mp4: 193988KB [00:23, 8376.47KB/s]                             \n",
      "He Is Exalted Site.mp4: 354550KB [00:28, 12245.16KB/s]                            \n"
     ]
    },
    {
     "name": "stdout",
     "output_type": "stream",
     "text": [
      "OOPS!!! Download failed. url appended to the 'failed downloads' list\n",
      "404: Unable to retrieve download links\n",
      "OOPS!!! Download failed. url appended to the 'failed downloads' list\n",
      "404: Unable to retrieve download links\n"
     ]
    },
    {
     "name": "stderr",
     "output_type": "stream",
     "text": [
      "Kevin Bond Promise Tutorial.mp4: 127309KB [00:09, 13015.09KB/s]                            \n",
      "Lord You are Awesome MIDI File.mp4: 26590KB [00:02, 13067.60KB/s]                           \n"
     ]
    },
    {
     "name": "stdout",
     "output_type": "stream",
     "text": [
      "OOPS!!! Download failed. url appended to the 'failed downloads' list\n",
      "'files'\n",
      "OOPS!!! Download failed. url appended to the 'failed downloads' list\n",
      "https://www.youtube.com/embed/U9uQ3CB2SWY is not supported. Make sure you don't include query parameters in the url\n"
     ]
    },
    {
     "name": "stderr",
     "output_type": "stream",
     "text": [
      "I have decided Full Lesson.mp4: 192794KB [00:14, 13074.14KB/s]                            \n"
     ]
    },
    {
     "name": "stdout",
     "output_type": "stream",
     "text": [
      "OOPS!!! Download failed. url appended to the 'failed downloads' list\n",
      "https://www.youtube.com/embed/BbpjRmXaAGA is not supported. Make sure you don't include query parameters in the url\n"
     ]
    },
    {
     "name": "stderr",
     "output_type": "stream",
     "text": [
      "Alright Vamp by Doobie Powell.mp4: 72449KB [00:05, 13573.08KB/s]                           \n"
     ]
    },
    {
     "name": "stdout",
     "output_type": "stream",
     "text": [
      "OOPS!!! Download failed. url appended to the 'failed downloads' list\n",
      "[Errno 22] Invalid argument: 'COMPETENT\\\\Gain the World *advanced tips and thoughts.mp4'\n"
     ]
    },
    {
     "name": "stderr",
     "output_type": "stream",
     "text": [
      "Best in Me.mp4: 172459KB [00:13, 13239.77KB/s]                            \n",
      "My Testimony.mp4: 113744KB [00:08, 13650.18KB/s]\n",
      "My Testimony Extras.mp4: 9604KB [00:00, 12641.81KB/s]                          \n",
      "My Testimony Extras.mp4: 28186KB [00:02, 11991.49KB/s]                           \n",
      "You are God Alone tutorial.mp4: 381182KB [00:28, 13579.92KB/s]                            \n"
     ]
    },
    {
     "name": "stdout",
     "output_type": "stream",
     "text": [
      "OOPS!!! Download failed. url appended to the 'failed downloads' list\n",
      "'files'\n",
      "OOPS!!! Download failed. url appended to the 'failed downloads' list\n",
      "local variable 'stream' referenced before assignment\n"
     ]
    },
    {
     "name": "stderr",
     "output_type": "stream",
     "text": [
      "You are God Alone tutorial.mp4: 251295KB [00:20, 12517.62KB/s]                            \n",
      "You are God Alone MIDI Vid.mp4: 12760KB [00:00, 14018.02KB/s]                           \n",
      "Great it thy faithfulness tutorial.mp4: 84985KB [00:08, 10018.51KB/s]                           \n",
      "Jayden Baker, Jesus, Jesus (site).mp4: 161328KB [00:12, 12696.15KB/s]                            \n",
      "The 2-5- half step rule (for site).mp4: 51451KB [00:04, 12629.91KB/s]                           \n",
      "Milo's moped.mp4: 42799KB [00:03, 13358.44KB/s]                           \n"
     ]
    },
    {
     "name": "stdout",
     "output_type": "stream",
     "text": [
      "OOPS!!! Download failed. url appended to the 'failed downloads' list\n",
      "local variable 'stream' referenced before assignment\n",
      "OOPS!!! Download failed. url appended to the 'failed downloads' list\n",
      "404: Unable to retrieve download links\n",
      "OOPS!!! Download failed. url appended to the 'failed downloads' list\n",
      "404: Unable to retrieve download links\n"
     ]
    },
    {
     "name": "stderr",
     "output_type": "stream",
     "text": [
      "Phil All I do Vimeo.mp4: 5905KB [00:00, 8658.48KB/s]                          \n"
     ]
    },
    {
     "name": "stdout",
     "output_type": "stream",
     "text": [
      "OOPS!!! Download failed. url appended to the 'failed downloads' list\n",
      "https://gumroad.com/l/HcafX is not supported. Make sure you don't include query parameters in the url\n"
     ]
    },
    {
     "name": "stderr",
     "output_type": "stream",
     "text": [
      "Play Father Jesus Holy Spirit like Phil Feaster.mp4: 58338KB [00:04, 13113.44KB/s]                           \n",
      "You are my hiding place site.mp4: 90834KB [00:06, 13629.73KB/s]                           \n",
      "I am Still Here by Mike Bereal.mp4: 155673KB [00:11, 13658.33KB/s]                           \n",
      "Jonathon Nelson I love you tutorial.mp4: 70456KB [00:05, 13704.99KB/s]                           \n",
      "Travis Sayles Site.mp4: 148442KB [00:11, 13330.31KB/s]                            \n",
      "A Praying Spirit.mp4: 11767KB [00:01, 11633.67KB/s]                           \n",
      "Rodney East Allelujah Site.mp4: 108979KB [00:07, 13780.91KB/s]                            \n",
      "He Shall Purify Tutorial, Part 1 (of 3).mp4: 56487KB [00:04, 13537.78KB/s]                           \n",
      "Oh Holy Night Tutorial.mp4: 372380KB [00:36, 10300.18KB/s]                            \n",
      "When Sunday Comes, Tutorial.mp4: 211139KB [00:15, 13237.09KB/s]                            \n"
     ]
    },
    {
     "name": "stdout",
     "output_type": "stream",
     "text": [
      "OOPS!!! Download failed. url appended to the 'failed downloads' list\n",
      "404: Unable to retrieve download links\n"
     ]
    },
    {
     "name": "stderr",
     "output_type": "stream",
     "text": [
      "Wendell Lowe Site.mp4: 164346KB [00:12, 13068.93KB/s]                           \n"
     ]
    },
    {
     "name": "stdout",
     "output_type": "stream",
     "text": [
      "OOPS!!! Download failed. url appended to the 'failed downloads' list\n",
      "404: Unable to retrieve download links\n",
      "OOPS!!! Download failed. url appended to the 'failed downloads' list\n",
      "404: Unable to retrieve download links\n",
      "OOPS!!! Download failed. url appended to the 'failed downloads' list\n",
      "404: Unable to retrieve download links\n",
      "OOPS!!! Download failed. url appended to the 'failed downloads' list\n",
      "403: If the video is embed only, also provide the url on which it is embedded, Vimeo(url=<vimeo_url>,embedded_on=<url>)\n",
      "OOPS!!! Download failed. url appended to the 'failed downloads' list\n",
      "404: Unable to retrieve download links\n"
     ]
    },
    {
     "name": "stderr",
     "output_type": "stream",
     "text": [
      "Javad Day Part 2.mp4: 57697KB [00:07, 7217.93KB/s]                            \n",
      "Holy Ghost by Kim Burrell.mp4: 122308KB [00:09, 12950.59KB/s]                            \n",
      "Love Medley Site.mp4: 210050KB [00:15, 13539.50KB/s]                            \n"
     ]
    },
    {
     "name": "stdout",
     "output_type": "stream",
     "text": [
      "OOPS!!! Download failed. url appended to the 'failed downloads' list\n",
      "https://www.youtube.com/embed/TduMmjj0Y60 is not supported. Make sure you don't include query parameters in the url\n",
      "OOPS!!! Download failed. url appended to the 'failed downloads' list\n",
      "https://www.youtube.com/embed/No8NOSmgv-4 is not supported. Make sure you don't include query parameters in the url\n",
      "OOPS!!! Download failed. url appended to the 'failed downloads' list\n",
      "https://www.youtube.com/embed/mFILJ9vwSaA is not supported. Make sure you don't include query parameters in the url\n",
      "OOPS!!! Download failed. url appended to the 'failed downloads' list\n",
      "[Errno 22] Invalid argument: 'INTERMEDIATE\\\\Play the Transition Chords of \"Sinking\" Tye Tribbet.mp4'\n",
      "OOPS!!! Download failed. url appended to the 'failed downloads' list\n",
      "https://www.facebook.com/v3.3/plugins/comments.php is not supported. Make sure you don't include query parameters in the url\n",
      "OOPS!!! Download failed. url appended to the 'failed downloads' list\n",
      "https://www.youtube.com/embed/1e4unYP3dmY is not supported. Make sure you don't include query parameters in the url\n"
     ]
    },
    {
     "name": "stderr",
     "output_type": "stream",
     "text": [
      "Worthy is the Lamb Tutorial.mp4: 185606KB [00:13, 13476.89KB/s]                            \n"
     ]
    },
    {
     "name": "stdout",
     "output_type": "stream",
     "text": [
      "OOPS!!! Download failed. url appended to the 'failed downloads' list\n",
      "https://www.youtube.com/embed/AR6CJDHzILQ is not supported. Make sure you don't include query parameters in the url\n",
      "OOPS!!! Download failed. url appended to the 'failed downloads' list\n",
      "https://www.youtube.com/embed/xrh7_1ichng is not supported. Make sure you don't include query parameters in the url\n"
     ]
    },
    {
     "name": "stderr",
     "output_type": "stream",
     "text": [
      "Ear Training MINI Lesson.mp4: 23335KB [00:01, 11780.73KB/s]                           \n"
     ]
    },
    {
     "name": "stdout",
     "output_type": "stream",
     "text": [
      "OOPS!!! Download failed. url appended to the 'failed downloads' list\n",
      "https://www.facebook.com/v3.3/plugins/comments.php is not supported. Make sure you don't include query parameters in the url\n",
      "OOPS!!! Download failed. url appended to the 'failed downloads' list\n",
      "https://www.youtube.com/embed/PBGIutMfmHc is not supported. Make sure you don't include query parameters in the url\n"
     ]
    },
    {
     "name": "stderr",
     "output_type": "stream",
     "text": [
      "Glory be to the Father.mp4: 22996KB [00:01, 12929.55KB/s]                           \n",
      "And to the Son.mp4: 35617KB [00:02, 13146.47KB/s]                           \n",
      "And to the Holy Ghost.mp4: 45446KB [00:03, 13881.50KB/s]                           \n",
      "As it was in the beginning.mp4: 24319KB [00:01, 14022.32KB/s]                           \n",
      "It is now and ever shall be.mp4: 22146KB [00:01, 13579.28KB/s]                           \n",
      "World Without end.mp4: 13373KB [00:00, 13840.67KB/s]                           \n",
      "Amen Amen.mp4: 24784KB [00:01, 13197.35KB/s]                           \n",
      "Lord you are awesome Tutorial.mp4: 47204KB [00:03, 12801.85KB/s]                           \n",
      "Lord You are Awesome Tutorial Part 2.mp4: 26755KB [00:02, 13027.31KB/s]                           \n",
      "Lord you are awesome for beginners.mp4: 42911KB [00:04, 10030.62KB/s]                           "
     ]
    },
    {
     "name": "stdout",
     "output_type": "stream",
     "text": [
      "File saved to 'status files/downloaded midi videos.txt'\n"
     ]
    },
    {
     "name": "stderr",
     "output_type": "stream",
     "text": [
      "\n"
     ]
    }
   ],
   "source": [
    "failed_downloads = []\n",
    "downloaded_videos = {}\n",
    "for level in vimeo_links_midi:\n",
    "    result = []\n",
    "    for video_url in vimeo_links_midi[level]:\n",
    "        downloaded = download_video(video_url, level, failed_downloads)\n",
    "        if downloaded == True:\n",
    "            result.append(video_url)\n",
    "    downloaded_videos[level] = result\n",
    "save_to_file(status_files_directory+\"downloaded midi videos.txt\", downloaded_videos)"
   ]
  },
  {
   "cell_type": "code",
   "execution_count": 213,
   "metadata": {},
   "outputs": [
    {
     "name": "stdout",
     "output_type": "stream",
     "text": [
      "Number of videos that Failed to downloads:  69\n"
     ]
    },
    {
     "data": {
      "text/plain": [
       "['https://player.vimeo.com/video/3311353',\n",
       " 'https://player.vimeo.com/video/32557617',\n",
       " 'https://player.vimeo.com/video/20573696',\n",
       " 'https://www.youtube.com/embed/jFpx-caTqhs',\n",
       " 'https://www.youtube.com/embed/i6OA1tr-Bno',\n",
       " 'https://player.vimeo.com/video/295064483',\n",
       " 'https://player.vimeo.com/video/295064452',\n",
       " 'https://player.vimeo.com/video/295064409',\n",
       " 'https://player.vimeo.com/video/294966261',\n",
       " 'https://player.vimeo.com/video/294966290']"
      ]
     },
     "execution_count": 213,
     "metadata": {},
     "output_type": "execute_result"
    }
   ],
   "source": [
    "# handle failed downloads\n",
    "print(f\"Number of videos that Failed to downloads:  {len(failed_downloads)}\")\n",
    "failed_downloads[:10]"
   ]
  },
  {
   "cell_type": "code",
   "execution_count": 217,
   "metadata": {},
   "outputs": [
    {
     "name": "stdout",
     "output_type": "stream",
     "text": [
      "Number of vimeo links that failed: 33\n",
      "File saved to 'status files/failed downloads.txt'\n"
     ]
    }
   ],
   "source": [
    "# remove youtube links and facebook links\n",
    "failed_downloads_clean = list(filter(lambda x: x.find('youtube') == -1, failed_downloads))    # remove youtube links, can view the videos on the youtube channel\n",
    "failed_downloads_clean = list(filter(lambda x: x.find('facebook') == -1, failed_downloads_clean))    # remove facebook links\n",
    "print(f\"Number of vimeo links that failed: {len(failed_downloads_clean)}\")\n",
    "failed_downloads_clean\n",
    "save_to_file(status_files_directory+\"failed downloads.txt\", {\"failed vimeo downloads\": failed_downloads_clean})"
   ]
  },
  {
   "cell_type": "markdown",
   "metadata": {},
   "source": [
    "### ROADMAPS SECTION\n",
    "For this section, I'll just save the vimeo links. I won't download any videos because I don't need them as much I needed the MIDI lessons."
   ]
  },
  {
   "cell_type": "code",
   "execution_count": null,
   "metadata": {},
   "outputs": [],
   "source": [
    "roadMaps = {}\n",
    "\n",
    "I_roadmap_video_urls = get_roadmap_vimeo_links(\"Intermediate\")\n",
    "roadMaps[\"Intermediate\"] = I_roadmap_video_urls\n",
    "\n",
    "# uncomment this to download the advanced roadmap videos when they are uploaded\n",
    "# A_roadmap_video_urls = get_roadmap_vimeo_links(\"Advanced\")\n",
    "# roadMaps[\"Advanced\"] = A_roadmap_video_urls\n",
    "\n",
    "save_to_file(\"status files/ROADMAPs.txt\", roadMaps)\n",
    "roadMaps"
   ]
  },
  {
   "cell_type": "markdown",
   "metadata": {},
   "source": [
    "### TRAINING SECTION\n",
    "Just like the _ROADMAPS_ section, we'll only collect the vimeo links for this section. The _LIVE TRAINING_ section is divided into 3 subsections. For each subsection, we'll get the url to the training, obtain the vimeo link and save to a file on disk"
   ]
  },
  {
   "cell_type": "code",
   "execution_count": 1,
   "metadata": {},
   "outputs": [],
   "source": [
    "def get_training_urls():\n",
    "    live_training = {}\n",
    "    cursor =  WebDriverWait(driver, 3).until(\n",
    "        EC.presence_of_element_located((By.LINK_TEXT, \"LIVE TRAININGS\"))\n",
    "    )\n",
    "    cursor.click()\n",
    "\n",
    "    # organize by sections\n",
    "    sections = WebDriverWait(driver, 3).until(\n",
    "        EC.presence_of_element_located((By.ID, \"tabs\"))\n",
    "    )\n",
    "    sections = sections.find_elements(By.TAG_NAME, \"li\")\n",
    "    del sections[0]   # remove the \"VIEW ALL\" section\n",
    "    \n",
    "    for section in sections:\n",
    "        filter = f\"filter-{section.text.lower().replace(' ', '-')}\"\n",
    "        articles = driver.find_elements(By.CLASS_NAME, filter)\n",
    "        \n",
    "        # get and save urls to live trainings for each section (guests, monthly lives, and sean)\n",
    "        section_urls = [article.find_element(By.TAG_NAME, 'a').get_attribute(\"href\") for article in articles]\n",
    "        live_training[section.text] = section_urls\n",
    "            \n",
    "    return live_training\n",
    "\n",
    "\n",
    "# takes in the url to the live training and returns the vimeo url \n",
    "def get_vimeo_link_from_url(page):\n",
    "    driver.get(page)\n",
    "    html_article =  WebDriverWait(driver, 3).until(\n",
    "        EC.presence_of_element_located((By.CLASS_NAME, \"lesson_content\"))\n",
    "    )\n",
    "    iframe = html_article.find_element(By.TAG_NAME, \"iframe\")\n",
    "    vimeo_link = get_video_source(iframe)\n",
    "    \n",
    "    return vimeo_link \n"
   ]
  },
  {
   "cell_type": "code",
   "execution_count": 28,
   "metadata": {},
   "outputs": [
    {
     "name": "stdout",
     "output_type": "stream",
     "text": [
      "File saved to 'status files/live training urls.txt'\n",
      "File saved to 'status files/live training vimeo links.txt'\n"
     ]
    }
   ],
   "source": [
    "# collect and save all urls to live trainings\n",
    "live_training = get_training_urls()\n",
    "save_to_file(status_files_directory+\"live training urls.txt\", live_training)\n",
    "\n",
    "# get the video links for each live training session and save to file\n",
    "live_training_vimeo_links = {}\n",
    "for section in live_training:\n",
    "    links_for_section  = []\n",
    "    for url in live_training[section]:\n",
    "        video_src = get_vimeo_link_from_url(url)\n",
    "        links_for_section.append(video_src)\n",
    "    live_training_vimeo_links[section] = links_for_section\n",
    "\n",
    "save_to_file(status_files_directory+\"live training vimeo links.txt\", live_training_vimeo_links)"
   ]
  },
  {
   "cell_type": "code",
   "execution_count": null,
   "metadata": {},
   "outputs": [],
   "source": [
    "# close the webdriver now that we are done\n",
    "driver.quit()"
   ]
  },
  {
   "cell_type": "markdown",
   "metadata": {},
   "source": [
    "We've come to the end of the tuturial. We've learned how to get a website, locate HTML elements, and make our code interact with the website using functions like _\"click()\"_ and _\"send_keys()\"_. We also learned how to download videos using vimeo-downloader. I hope you can use this to automate your browsing.<br>BONUS: Below, I'll create a python script which will check the website for new content and download only the new content"
   ]
  },
  {
   "cell_type": "code",
   "execution_count": null,
   "metadata": {},
   "outputs": [],
   "source": []
  },
  {
   "cell_type": "code",
   "execution_count": null,
   "metadata": {},
   "outputs": [],
   "source": []
  },
  {
   "cell_type": "code",
   "execution_count": null,
   "metadata": {},
   "outputs": [],
   "source": []
  },
  {
   "cell_type": "markdown",
   "metadata": {},
   "source": [
    "\n",
    "<p>The code below is a script which I'll use in the future to automatically download new content from the site. When this script is ran, it will compare the content on the website against the content in our _\"status files\"_ saved on disk, and only download new content. Now that we've downloaded all these lessons, I can cancel my membership and resubscribe in a few months to download new content."
   ]
  },
  {
   "cell_type": "code",
   "execution_count": null,
   "metadata": {},
   "outputs": [],
   "source": [
    "# # Some helper functions\n",
    "# # downloads new videos in the MIDI section, provided new videos were uploaded\n",
    "# def download_new_MIDI_videos(driver, new_midi_lessons_urls, failed_downloads):\n",
    "#     new_midi_video_lmv = get_video_midi_links(driver, new_midi_lessons_urls)\n",
    "#     new_vimeo_links_midi = get_vimeo_links(new_midi_video_lmv)\n",
    "#     for level in new_vimeo_links_midi:\n",
    "#         for video_url in new_vimeo_links_midi[level]:\n",
    "#             download_video(video_url, level, failed_downloads)\n",
    "\n",
    "# # compares 2 dictionaries(files), and retuns only the new elements\n",
    "# def compare_dict(new_dict, old_dict):\n",
    "#     result = {}\n",
    "#     for key in new_dict:\n",
    "#         result[key] = list(set(new_dict[key]) - set(old_dict[key]))\n",
    "#     return result\n",
    "\n",
    "# def update_file(fileName, prevDict, newContentDict):\n",
    "#     result = prevDict\n",
    "#     for k in newContentDict:\n",
    "#         values_to_add = newContentDict[k]\n",
    "#         newValues = prevDict[k]\n",
    "#         [newValues.append(x) for x in values_to_add]\n",
    "#         result[k] = newValues\n",
    "#     save_to_file(status_files_directory+fileName, result)\n",
    "\n",
    "\n",
    "# webdriverPATH = \"C:\\Program Files (x86)\\chromedriver.exe\"\n",
    "# s = Service(webdriverPATH)\n",
    "# driver = webdriver.Chrome(service=s)\n",
    "\n",
    "# # functions save status files to this directory\n",
    "# status_files_directory = \"status files/\"\n",
    "\n",
    "# # read username and password from file\n",
    "# login_info  = read_from_file(\"loginInfo.txt\")\n",
    "\n",
    "# website = \"https://seanwilsonpiano.com\"\n",
    "# driver.get(website)\n",
    "\n",
    "# #1 Log in to the website\n",
    "# login_to_website(login_info[\"USERNAME\"], login_info[\"PASSWORD\"], driver)\n",
    "\n",
    "# #2 get updates from the MIDI Lessons section, and download new files if necessary\n",
    "# cursor =  WebDriverWait(driver, 3).until(\n",
    "#     EC.presence_of_element_located((By.LINK_TEXT, \"MIDI FILES\"))\n",
    "# )\n",
    "# cursor.click()\n",
    "    \n",
    "# # skill levels of interest\n",
    "# levels = [\"INTERMEDIATE\", \"ADVANCED\"]\n",
    "\n",
    "# # Get the urls for the \"MIDI FILES\" section and compare to what we have on disk\n",
    "# urls_for_MIDI_lessons = get_webpages_for__midi_section(driver, levels)\n",
    "# previous_urls = read_from_file(status_files_directory+\"All midi pages.txt\")\n",
    "# new_midi_lessons_urls = compare_dict(urls_for_MIDI_lessons, previous_urls)\n",
    "# num_new_MIDI_lessons = sum([len(x) for x in new_midi_lessons_urls.values()])\n",
    "# if num_new_MIDI_lessons == 0:\n",
    "#     print(\"No New MIDI Files To Download\")\n",
    "# else:\n",
    "#     print(f\"{num_new_MIDI_lessons} New MIDI Lessons To Download!!\")\n",
    "#     update_file(\"All midi pages.txt\", previous_urls, new_midi_lessons_urls)   # update status file with new content\n",
    "\n",
    "# # download updates if any\n",
    "# if sum([len(x) for x in new_midi_lessons_urls.values()]) == 0:  # if there are no updates\n",
    "#     print(\"No new MIDI lessons!\")\n",
    "# else:\n",
    "#     # update status_files_directory+\"All midi pages.txt\" with the new lessons urls\n",
    "#     failed_downloads = []\n",
    "#     download_new_MIDI_videos(new_midi_lessons_urls, failed_downloads)\n",
    "\n",
    "\n",
    "# #3 Get new links in the ROADMAP section\n",
    "# #! not available yet. Uncomment this when the Advanced ROADMAP course is released\n",
    "# # new_roadmap_video_links= get_roadmap_vimeo_links(\"Advanced\")\n",
    "# # save_to_file(status_files_directory+\"ROADMAP Advanced.txt\")\n"
   ]
  }
 ],
 "metadata": {
  "interpreter": {
   "hash": "a8b2e27cf32595e76c073ca4f1df1a0814dad12b6bfbedd668fc053b2186d359"
  },
  "kernelspec": {
   "display_name": "Python 3.10.0 64-bit",
   "name": "python3"
  },
  "language_info": {
   "codemirror_mode": {
    "name": "ipython",
    "version": 3
   },
   "file_extension": ".py",
   "mimetype": "text/x-python",
   "name": "python",
   "nbconvert_exporter": "python",
   "pygments_lexer": "ipython3",
   "version": "3.10.0"
  },
  "orig_nbformat": 4
 },
 "nbformat": 4,
 "nbformat_minor": 2
}
